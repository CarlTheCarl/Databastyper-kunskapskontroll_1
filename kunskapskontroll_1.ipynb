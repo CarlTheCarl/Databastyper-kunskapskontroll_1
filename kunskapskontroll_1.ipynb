{
 "cells": [
  {
   "cell_type": "markdown",
   "metadata": {},
   "source": [
    "# Kunskapskontroll 1\n",
    "## Databastyper\n",
    "\n",
    "**OBS!** Alla uppgifter som inte står under rubriken **Väl godkänt** krävs för **Godkänt** på kunskapskontrollen.\n"
   ]
  },
  {
   "cell_type": "markdown",
   "metadata": {},
   "source": [
    "1. Förklara övergripande vad NoSQL är.\n"
   ]
  },
  {
   "cell_type": "markdown",
   "metadata": {},
   "source": [
    "Svar: NoSQL är databaser om inte är relationsbaserade"
   ]
  },
  {
   "cell_type": "markdown",
   "metadata": {},
   "source": [
    "2. Vilken typ av data kan en NoSQL-databas hantera som inte en\n",
    "relationell databas kan?\n"
   ]
  },
  {
   "cell_type": "markdown",
   "metadata": {},
   "source": [
    "Svar: ostrukturerad och semistrukturerad data, T.EX. Bilder, Video, Ljudfiler, E-Post"
   ]
  },
  {
   "cell_type": "markdown",
   "metadata": {},
   "source": [
    "3. Beskriv kortfattat vad en nyckel/värde-databas är.\n"
   ]
  },
  {
   "cell_type": "markdown",
   "metadata": {},
   "source": [
    "Svar: Databas som lagrar data som par en en nyckel och ett värde, jämnförbart med dictionaries i python och liknande programerings språk\n",
    "Nyckel/värde databaser går endas attt söka via nycklarna och inte värdena"
   ]
  },
  {
   "cell_type": "markdown",
   "metadata": {},
   "source": [
    "4. Beskriv kortfattat vad en dokumentdatabas är.\n"
   ]
  },
  {
   "cell_type": "markdown",
   "metadata": {},
   "source": [
    "Svar: Ungefär samma sak som en nyckel/värde databas, fast att att värdet måsta vara ett dokument"
   ]
  },
  {
   "cell_type": "markdown",
   "metadata": {},
   "source": [
    "5. Beskriv kortfattat vad en bredkolumndatabas är.\n"
   ]
  },
  {
   "cell_type": "markdown",
   "metadata": {},
   "source": [
    "Svar: Databaser som lagrar data i kolumner och rader likt ett excell dokument"
   ]
  },
  {
   "cell_type": "markdown",
   "metadata": {},
   "source": [
    "\n",
    "6. Beskriv kortfattat vad en grafdatabas är."
   ]
  },
  {
   "cell_type": "markdown",
   "metadata": {},
   "source": [
    "Svar: Databas som lagrar data i noder som kan kopplas i hop med varandra"
   ]
  },
  {
   "cell_type": "markdown",
   "metadata": {},
   "source": [
    "### Nyckel/värdedatabas\n",
    "\n",
    "Lägg till datan i filen `kunskapskontroll_1/data/northwind/orders.csv` i en Redis-databas."
   ]
  },
  {
   "cell_type": "code",
   "execution_count": null,
   "metadata": {},
   "outputs": [
    {
     "name": "stdout",
     "output_type": "stream",
     "text": [
      "bar\n"
     ]
    }
   ],
   "source": [
    "import redis\n",
    "\n",
    "redisPWD = open(\"redis.pwd\", \"r\").read().strip()\n",
    "\n",
    "r = redis.Redis(\n",
    "    host='redis-17567.crce175.eu-north-1-1.ec2.redns.redis-cloud.com',\n",
    "    port=17567,\n",
    "    decode_responses=True,\n",
    "    username=\"default\",\n",
    "    password=redisPWD,\n",
    ")\n",
    "\n",
    "# success = r.set('foo', 'bar')\n",
    "# # True\n",
    "\n",
    "# result = r.get('foo')\n",
    "# print(result)\n",
    "# # >>> bar\n",
    "\n"
   ]
  },
  {
   "cell_type": "markdown",
   "metadata": {},
   "source": [
    "Ge ett exempel på hur vad man kan använda Redis-databasen du skapat till:"
   ]
  },
  {
   "cell_type": "markdown",
   "metadata": {},
   "source": [
    "Svar: "
   ]
  },
  {
   "cell_type": "markdown",
   "metadata": {},
   "source": [
    "### Dokumentdatabas\n",
    "\n",
    "I mappen `kunskapskontroll_1/data/northwind/` finns filerna `products.csv` och `suppliers.json`.\n",
    "\n",
    "Slå ihop `products.csv` och `suppliers.json` på ett passande sätt och spara dem som en dokumentdatabas i MongoDB.\n",
    "\n",
    "#### Godkänt\n",
    "Ta reda på:\n",
    "* vilka produkter som behöver beställas (`ReorderLevel` $\\gt$ `UnitsInStock` $ + $ `UnitsOnOrder`)\n",
    "* vem man ska kontakta för att beställa fler, och\n",
    "* hur man kontaktar personen\n"
   ]
  },
  {
   "cell_type": "code",
   "execution_count": null,
   "metadata": {},
   "outputs": [],
   "source": []
  },
  {
   "cell_type": "markdown",
   "metadata": {},
   "source": [
    "\n",
    "#### Väl godkänt\n",
    "Skapa en Streamlit-app som visar produkter som behöver beställas och talar om vem man ska ringa för att beställa fler. Appen kan vara en enkel lista över produkter, eller innehålla fler funktioner (QR-kod-scanner?)."
   ]
  },
  {
   "cell_type": "code",
   "execution_count": null,
   "metadata": {},
   "outputs": [],
   "source": []
  },
  {
   "cell_type": "markdown",
   "metadata": {},
   "source": [
    "### Grafdatabas\n",
    "**OBS** Fråga 1-3 nedan är desamma för både Godkänt och Väl godkänt. Det som skiljer sig är hur du väljer att skapa databasen samt fråga 4.\n",
    "\n",
    "#### Godkänt\n",
    "* Läs in `csv`-filerna i `kunskapskontroll_1/data/movies/prepared/` i Neo4j och skapa en datamodell.\n",
    "* Svara på frågorna och utför instruktionerna nedan. Klistra in dina svar som JSON eller bilder, beroende på om svaret är i data- eller graf-form.\n",
    "    1. Vilka är de 10 vanligaste kombinationerna av genrer?\n",
    "    2. Vilka är de fem vanligaste genrerna på filmer regisserade av Steven Spielberg, och hur många filmer är i de genrerna?\n",
    "    3. Det verkar som om de har missat att Viggo Mortensen är med i Sagan om Ringen-filmerna. Skapa `[:ACTED_IN]`-relationer mellan Viggo och alla tre *The Lord of the Rings*-filmerna. Visa en graf med Viggo i mitten och relationer till de tre filmerna.\n",
    "\n",
    "#### Väl godkänt\n",
    "* Bearbeta datan i `kunskapskontroll_1/data/movies/movies.json` så att den passar till att läsas in i Neo4j. Processen ska gå att följa i kodceller i notebooken. Du får gärna titta på filerna i `kunskapskontroll_1/data/movies/prepared/` för att få en idé om hur resultatet ska se ut.\n",
    "* Läs in data in Neo4j.\n",
    "* Svara på frågorna och utför instruktionerna nedan. Klistra in dina svar som JSON eller bilder, beroende på om svaret är i data- eller graf-form.\n",
    "    1. Vilka är de 10 vanligaste kombinationerna av genrer?\n",
    "    2. Vilka är de fem vanligaste genrerna på filmer regisserade av Steven Spielberg, och hur många filmer är i de genrerna?\n",
    "    3. Det verkar som om de har missat att Viggo Mortensen är med i Sagan om Ringen-filmerna. Skapa `[:ACTED_IN]`-relationer mellan Viggo och alla tre *The Lord of the Rings*-filmerna. Visa en graf med Viggo i mitten och relationer till de tre filmerna.\n",
    "    4. Hitta på minst en egen fråga och svara på den.\n",
    "\n"
   ]
  },
  {
   "cell_type": "code",
   "execution_count": null,
   "metadata": {},
   "outputs": [],
   "source": []
  },
  {
   "cell_type": "markdown",
   "metadata": {},
   "source": [
    "## Vad ska lämnas in på Learnpoint?\n",
    "\n",
    "Deadline: 14/2 kl. 17.00\n",
    "\n",
    "En länk till ett Github-repository som innehåller:\n",
    "* en kopia av den här notebooken med dina svar på uppgifterna. **Använd kod-celler för kod och markdown-celler för text!**\n",
    "* bilder på grafer så att de kan visas i notebooken\n",
    "* VG: om du gjort en Streamlit-app i dokumentdatabas-delen ska där också finnas en `app.py` eller motsvarande med koden för appen.\n",
    "\n",
    "That's it!"
   ]
  }
 ],
 "metadata": {
  "kernelspec": {
   "display_name": "Databaser",
   "language": "python",
   "name": "python3"
  },
  "language_info": {
   "codemirror_mode": {
    "name": "ipython",
    "version": 3
   },
   "file_extension": ".py",
   "mimetype": "text/x-python",
   "name": "python",
   "nbconvert_exporter": "python",
   "pygments_lexer": "ipython3",
   "version": "3.12.8"
  }
 },
 "nbformat": 4,
 "nbformat_minor": 2
}
